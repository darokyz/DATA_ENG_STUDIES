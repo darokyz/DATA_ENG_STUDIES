{
 "cells": [
  {
   "cell_type": "code",
   "execution_count": 2,
   "id": "83e423ab",
   "metadata": {},
   "outputs": [],
   "source": [
    "path_jason = '../data_raw/dados_empresaA.json'\n"
   ]
  },
  {
   "cell_type": "code",
   "execution_count": 3,
   "id": "7baa68a4",
   "metadata": {},
   "outputs": [],
   "source": [
    "with open(path_jason, 'r')as file:\n",
    "    dados = (file.readline())"
   ]
  },
  {
   "cell_type": "code",
   "execution_count": 4,
   "id": "85ee5f68",
   "metadata": {},
   "outputs": [
    {
     "data": {
      "text/plain": [
       "str"
      ]
     },
     "execution_count": 4,
     "metadata": {},
     "output_type": "execute_result"
    }
   ],
   "source": [
    "dados\n",
    "type(dados)"
   ]
  },
  {
   "cell_type": "code",
   "execution_count": 5,
   "id": "737e6c9a",
   "metadata": {},
   "outputs": [],
   "source": [
    "import json"
   ]
  },
  {
   "cell_type": "code",
   "execution_count": 6,
   "id": "b80cc57f",
   "metadata": {},
   "outputs": [],
   "source": [
    "with open(path_jason, 'r') as file:\n",
    "    dados_json = json.load(file)"
   ]
  },
  {
   "cell_type": "code",
   "execution_count": 7,
   "id": "36edfe91",
   "metadata": {},
   "outputs": [],
   "source": [
    "path_csv = '../data_raw/dados_empresaB.csv'"
   ]
  },
  {
   "cell_type": "code",
   "execution_count": 8,
   "id": "e073b8cb",
   "metadata": {},
   "outputs": [],
   "source": [
    "with open(path_csv,'r') as file:\n",
    "    dados_csv = file.readlines()"
   ]
  },
  {
   "cell_type": "code",
   "execution_count": 9,
   "id": "60874844",
   "metadata": {},
   "outputs": [
    {
     "data": {
      "text/plain": [
       "'Nome do Item,Classificação do Produto,Valor em Reais (R$),Quantidade em Estoque,Nome da Loja,Data da Venda\\n'"
      ]
     },
     "execution_count": 9,
     "metadata": {},
     "output_type": "execute_result"
    }
   ],
   "source": [
    "dados_csv[0]"
   ]
  },
  {
   "cell_type": "code",
   "execution_count": 10,
   "id": "29eec8aa",
   "metadata": {},
   "outputs": [],
   "source": [
    "import csv"
   ]
  },
  {
   "cell_type": "code",
   "execution_count": 11,
   "id": "f728e81a",
   "metadata": {},
   "outputs": [],
   "source": [
    "dados_csv = []\n",
    "with open(path_csv,'r') as file:\n",
    "    spamreader = csv.reader(file, delimiter=\",\")\n",
    "    for linha in spamreader:\n",
    "        dados_csv.append(linha)"
   ]
  },
  {
   "cell_type": "code",
   "execution_count": 12,
   "id": "5882213f",
   "metadata": {},
   "outputs": [
    {
     "data": {
      "text/plain": [
       "['Nome do Item',\n",
       " 'Classificação do Produto',\n",
       " 'Valor em Reais (R$)',\n",
       " 'Quantidade em Estoque',\n",
       " 'Nome da Loja',\n",
       " 'Data da Venda']"
      ]
     },
     "execution_count": 12,
     "metadata": {},
     "output_type": "execute_result"
    }
   ],
   "source": [
    "dados_csv[0]"
   ]
  },
  {
   "cell_type": "code",
   "execution_count": 13,
   "id": "b523057a",
   "metadata": {},
   "outputs": [
    {
     "data": {
      "text/plain": [
       "{'Nome do Produto': 'Blush em pó',\n",
       " 'Categoria do Produto': 'Eletrodomésticos',\n",
       " 'Preço do Produto (R$)': 79.41,\n",
       " 'Quantidade em Estoque': 7,\n",
       " 'Filial': 'Filial 7'}"
      ]
     },
     "execution_count": 13,
     "metadata": {},
     "output_type": "execute_result"
    }
   ],
   "source": [
    "dados_json[0]\n"
   ]
  },
  {
   "cell_type": "code",
   "execution_count": 14,
   "id": "68e6b4b3",
   "metadata": {},
   "outputs": [],
   "source": [
    "#transformando a lista de listas em uma lista de dicionario DictReader != reader\n",
    "dados_csv = []\n",
    "with open(path_csv,'r') as file:\n",
    "    spamreader = csv.DictReader(file, delimiter=\",\")\n",
    "    for linha in spamreader:\n",
    "        dados_csv.append(linha)"
   ]
  },
  {
   "cell_type": "code",
   "execution_count": 15,
   "id": "8c4964b8",
   "metadata": {},
   "outputs": [
    {
     "data": {
      "text/plain": [
       "1323"
      ]
     },
     "execution_count": 15,
     "metadata": {},
     "output_type": "execute_result"
    }
   ],
   "source": [
    "len(dados_csv) #[0]['Quantidade em Estoque']"
   ]
  },
  {
   "cell_type": "code",
   "execution_count": 16,
   "id": "61c631cc",
   "metadata": {},
   "outputs": [
    {
     "data": {
      "text/plain": [
       "{'Nome do Item': 'Nome do Produto',\n",
       " 'Classificação do Produto': 'Categoria do Produto',\n",
       " 'Valor em Reais (R$)': 'Preço do Produto (R$)',\n",
       " 'Quantidade em Estoque': 'Quantidade em Estoque',\n",
       " 'Nome da Loja': 'Filial',\n",
       " 'Data da Venda': 'Data da Venda'}"
      ]
     },
     "execution_count": 16,
     "metadata": {},
     "output_type": "execute_result"
    }
   ],
   "source": [
    "key_mapping = {'Nome do Item':'Nome do Produto',\n",
    "            'Classificação do Produto':'Categoria do Produto',\n",
    "            'Valor em Reais (R$)': 'Preço do Produto (R$)',\n",
    "            'Quantidade em Estoque': 'Quantidade em Estoque',\n",
    "            'Nome da Loja':'Filial',\n",
    "            'Data da Venda': 'Data da Venda'\n",
    "            }\n",
    "key_mapping"
   ]
  },
  {
   "cell_type": "code",
   "execution_count": 17,
   "id": "10e7d77f",
   "metadata": {},
   "outputs": [
    {
     "data": {
      "text/plain": [
       "[{'Nome do Produto': 'Lápis de sobrancelha',\n",
       "  'Categoria do Produto': 'Roupas',\n",
       "  'Preço do Produto (R$)': '55.17',\n",
       "  'Quantidade em Estoque': '62',\n",
       "  'Filial': 'Filial 1',\n",
       "  'Data da Venda': '2023-04-13 18:58:06.794203'},\n",
       " {'Nome do Produto': 'Batom matte',\n",
       "  'Categoria do Produto': 'Eletrônicos',\n",
       "  'Preço do Produto (R$)': '74.15',\n",
       "  'Quantidade em Estoque': '48',\n",
       "  'Filial': 'Filial 9',\n",
       "  'Data da Venda': '2023-06-03 18:58:06.794203'},\n",
       " {'Nome do Produto': 'Corretivo',\n",
       "  'Categoria do Produto': 'Roupas',\n",
       "  'Preço do Produto (R$)': '54.86',\n",
       "  'Quantidade em Estoque': '36',\n",
       "  'Filial': 'Filial 5',\n",
       "  'Data da Venda': '2023-06-08 18:58:06.794203'},\n",
       " {'Nome do Produto': 'Delineador líquido',\n",
       "  'Categoria do Produto': 'Roupas',\n",
       "  'Preço do Produto (R$)': '91.29',\n",
       "  'Quantidade em Estoque': '1',\n",
       "  'Filial': 'Filial 8',\n",
       "  'Data da Venda': '2023-02-27 18:58:06.794203'},\n",
       " {'Nome do Produto': 'Batom líquido',\n",
       "  'Categoria do Produto': 'Roupas',\n",
       "  'Preço do Produto (R$)': '44.65',\n",
       "  'Quantidade em Estoque': '52',\n",
       "  'Filial': 'Filial 2',\n",
       "  'Data da Venda': '2022-09-05 18:58:06.794203'}]"
      ]
     },
     "execution_count": 17,
     "metadata": {},
     "output_type": "execute_result"
    }
   ],
   "source": [
    "new_dados_csv = []\n",
    "\n",
    "for old_dict in dados_csv:\n",
    "    dict_temp = {}\n",
    "    for old_key, value in old_dict.items():\n",
    "        dict_temp[key_mapping[old_key]] = value\n",
    "    new_dados_csv.append(dict_temp)\n",
    "\n",
    "new_dados_csv[:5]\n"
   ]
  },
  {
   "cell_type": "code",
   "execution_count": 18,
   "id": "49d5cb02",
   "metadata": {},
   "outputs": [
    {
     "data": {
      "text/plain": [
       "3123"
      ]
     },
     "execution_count": 18,
     "metadata": {},
     "output_type": "execute_result"
    }
   ],
   "source": [
    "len(dados_json)"
   ]
  },
  {
   "cell_type": "code",
   "execution_count": 19,
   "id": "51e2e096",
   "metadata": {},
   "outputs": [
    {
     "data": {
      "text/plain": [
       "1323"
      ]
     },
     "execution_count": 19,
     "metadata": {},
     "output_type": "execute_result"
    }
   ],
   "source": [
    "len(new_dados_csv)"
   ]
  },
  {
   "cell_type": "code",
   "execution_count": 20,
   "id": "4ae0075f",
   "metadata": {},
   "outputs": [
    {
     "data": {
      "text/plain": [
       "4446"
      ]
     },
     "execution_count": 20,
     "metadata": {},
     "output_type": "execute_result"
    }
   ],
   "source": [
    "len(dados_json + new_dados_csv)"
   ]
  },
  {
   "cell_type": "code",
   "execution_count": 21,
   "id": "dfcedd3d",
   "metadata": {},
   "outputs": [],
   "source": [
    "combined_list = []\n",
    "\n",
    "combined_list.extend(dados_json)\n",
    "combined_list.extend(new_dados_csv)"
   ]
  },
  {
   "cell_type": "code",
   "execution_count": 22,
   "id": "a75d8c1c",
   "metadata": {},
   "outputs": [
    {
     "data": {
      "text/plain": [
       "4446"
      ]
     },
     "execution_count": 22,
     "metadata": {},
     "output_type": "execute_result"
    }
   ],
   "source": [
    "len(combined_list)"
   ]
  },
  {
   "cell_type": "code",
   "execution_count": 23,
   "id": "5915c094",
   "metadata": {},
   "outputs": [
    {
     "data": {
      "text/plain": [
       "['Nome do Produto',\n",
       " 'Categoria do Produto',\n",
       " 'Preço do Produto (R$)',\n",
       " 'Quantidade em Estoque',\n",
       " 'Filial']"
      ]
     },
     "execution_count": 23,
     "metadata": {},
     "output_type": "execute_result"
    }
   ],
   "source": [
    "nome_colunas = list(combined_list[0].keys())\n",
    "nome_colunas"
   ]
  },
  {
   "cell_type": "code",
   "execution_count": 24,
   "id": "21335bc0",
   "metadata": {},
   "outputs": [
    {
     "data": {
      "text/plain": [
       "'Indisponivel'"
      ]
     },
     "execution_count": 24,
     "metadata": {},
     "output_type": "execute_result"
    }
   ],
   "source": [
    "combined_list[0].get('Data da Venda', 'Indisponivel')"
   ]
  },
  {
   "cell_type": "code",
   "execution_count": 25,
   "id": "39e0f53d",
   "metadata": {},
   "outputs": [
    {
     "data": {
      "text/plain": [
       "['Nome do Produto',\n",
       " 'Categoria do Produto',\n",
       " 'Preço do Produto (R$)',\n",
       " 'Quantidade em Estoque',\n",
       " 'Filial',\n",
       " 'Data da Venda']"
      ]
     },
     "execution_count": 25,
     "metadata": {},
     "output_type": "execute_result"
    }
   ],
   "source": [
    "nome_colunas = list(combined_list[-1].keys())\n",
    "nome_colunas "
   ]
  },
  {
   "cell_type": "code",
   "execution_count": 26,
   "id": "fdbfa105",
   "metadata": {},
   "outputs": [],
   "source": [
    "dados_combinados_tabela = [nome_colunas]\n",
    "\n",
    "for row in combined_list:\n",
    "    linha = []\n",
    "    for coluna in nome_colunas:\n",
    "        linha.append(row.get(coluna, 'Indisponivel'))\n",
    "    dados_combinados_tabela.append(linha)"
   ]
  },
  {
   "cell_type": "code",
   "execution_count": 27,
   "id": "59e81c9e",
   "metadata": {},
   "outputs": [
    {
     "data": {
      "text/plain": [
       "['Sombra de olhos',\n",
       " 'Eletrônicos',\n",
       " '41.73',\n",
       " '5',\n",
       " 'Filial 6',\n",
       " '2022-11-21 18:58:06.794203']"
      ]
     },
     "execution_count": 27,
     "metadata": {},
     "output_type": "execute_result"
    }
   ],
   "source": [
    "dados_combinados_tabela[-1]"
   ]
  },
  {
   "cell_type": "code",
   "execution_count": 28,
   "id": "586f7f8f",
   "metadata": {},
   "outputs": [],
   "source": [
    "path_dados_combinados = '../data_processed/dados_combinados.csv'\n",
    "\n",
    "with open(path_dados_combinados, 'w') as file:\n",
    "    writer = csv.writer(file)\n",
    "    writer.writerows(dados_combinados_tabela)"
   ]
  }
 ],
 "metadata": {
  "kernelspec": {
   "display_name": ".venv",
   "language": "python",
   "name": "python3"
  },
  "language_info": {
   "codemirror_mode": {
    "name": "ipython",
    "version": 3
   },
   "file_extension": ".py",
   "mimetype": "text/x-python",
   "name": "python",
   "nbconvert_exporter": "python",
   "pygments_lexer": "ipython3",
   "version": "3.10.12"
  }
 },
 "nbformat": 4,
 "nbformat_minor": 5
}
